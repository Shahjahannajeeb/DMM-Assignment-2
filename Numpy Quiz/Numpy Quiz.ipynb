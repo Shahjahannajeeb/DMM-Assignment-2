{
 "cells": [
  {
   "cell_type": "code",
   "execution_count": 43,
   "metadata": {
    "collapsed": true
   },
   "outputs": [],
   "source": [
    "import numpy as np"
   ]
  },
  {
   "cell_type": "code",
   "execution_count": 36,
   "metadata": {},
   "outputs": [
    {
     "name": "stdout",
     "output_type": "stream",
     "text": [
      "8\n"
     ]
    }
   ],
   "source": [
    "w = np.array([2,2,2,2]) #one dimensional array\n",
    "\n",
    "\n",
    "print(total)"
   ]
  },
  {
   "cell_type": "code",
   "execution_count": 87,
   "metadata": {},
   "outputs": [
    {
     "data": {
      "text/plain": [
       "5.477225575051661"
      ]
     },
     "execution_count": 87,
     "metadata": {},
     "output_type": "execute_result"
    }
   ],
   "source": [
    "30 ** 0.5"
   ]
  },
  {
   "cell_type": "code",
   "execution_count": 96,
   "metadata": {},
   "outputs": [
    {
     "name": "stdout",
     "output_type": "stream",
     "text": [
      "5.47722557505\n"
     ]
    }
   ],
   "source": [
    "#w.sum() Q1 ANSWER\n",
    "#Q2 ANSWER\n",
    "L2norm=np.sum(np.square(w))\n",
    "L2norm=np.sqrt(L2norm)\n",
    "print(L2norm)"
   ]
  },
  {
   "cell_type": "code",
   "execution_count": null,
   "metadata": {
    "collapsed": true
   },
   "outputs": [],
   "source": []
  },
  {
   "cell_type": "code",
   "execution_count": null,
   "metadata": {
    "collapsed": true
   },
   "outputs": [],
   "source": []
  },
  {
   "cell_type": "code",
   "execution_count": 48,
   "metadata": {},
   "outputs": [
    {
     "data": {
      "text/plain": [
       "4.0"
      ]
     },
     "execution_count": 48,
     "metadata": {},
     "output_type": "execute_result"
    }
   ],
   "source": [
    "L2norm = 0\n",
    "\n",
    "for i in range(w.shape[0]):\n",
    "\n",
    "    L2norm += w[i] ** 2\n",
    "\n",
    "L2norm = L2norm ** 0.5\n",
    "\n",
    "L2norm"
   ]
  },
  {
   "cell_type": "code",
   "execution_count": null,
   "metadata": {
    "collapsed": true
   },
   "outputs": [],
   "source": [
    "\n",
    "X.shape = (6,4) \n",
    "X.shape returns (6,4)\n",
    "colsum = np.zeros(X.shape[1])"
   ]
  },
  {
   "cell_type": "code",
   "execution_count": 295,
   "metadata": {},
   "outputs": [
    {
     "name": "stdout",
     "output_type": "stream",
     "text": [
      "0\n"
     ]
    }
   ],
   "source": [
    "X = np.array([[1,2,3,4],[1,2,3,4],[1,2,3,4],[1,2,3,4],[1,2,3,4],[1,2,3,4]])\n",
    "w = np.array([1,2,3,4])\n",
    "y = np.array([1,2,3,4,5,6])\n",
    "y_pred = 1\n",
    "hingeloss = 0 \n",
    "y_pred = y_pred+np.sum(w*X,axis=1)\n",
    "hingeloss=hingeloss+y[y-y_pred>0]\n",
    "hingeloss = np.sum(hingeloss)\n",
    "print(hingeloss)"
   ]
  },
  {
   "cell_type": "code",
   "execution_count": 293,
   "metadata": {},
   "outputs": [
    {
     "data": {
      "text/plain": [
       "0"
      ]
     },
     "execution_count": 293,
     "metadata": {},
     "output_type": "execute_result"
    }
   ],
   "source": [
    "hingeloss = 0\n",
    "\n",
    "for i in range(X.shape[0]):\n",
    "\n",
    "    y_pred = 1\n",
    "\n",
    "    for j in range(X.shape[1]):\n",
    "\n",
    "        y_pred += w[j] * X[i, j]\n",
    "\n",
    "    if y[i] - y_pred > 0:\n",
    "\n",
    "        hingeloss += y[i] - y_pred\n",
    "hingeloss"
   ]
  },
  {
   "cell_type": "code",
   "execution_count": null,
   "metadata": {
    "collapsed": true
   },
   "outputs": [],
   "source": []
  },
  {
   "cell_type": "code",
   "execution_count": 280,
   "metadata": {},
   "outputs": [
    {
     "data": {
      "text/plain": [
       "array([-165., -330., -495., -660.])"
      ]
     },
     "execution_count": 280,
     "metadata": {},
     "output_type": "execute_result"
    }
   ],
   "source": [
    "grd = np.zeros(w.shape[0])\n",
    "\n",
    "yhat = np.ones(X.shape[0]) * 1\n",
    "\n",
    "for i in range(X.shape[0]):\n",
    "\n",
    "    for j in range(X.shape[1]):\n",
    "\n",
    "        yhat[i] += w[j] * X[i,j]\n",
    "\n",
    "for j in range(X.shape[1]):\n",
    "\n",
    "    for i in range(X.shape[0]):\n",
    "\n",
    "        grd[j] += (y[i] - yhat[i]) * X[i][j]\n",
    "\n",
    "grd\n",
    "\n",
    "\n",
    "\n",
    "\n"
   ]
  },
  {
   "cell_type": "code",
   "execution_count": 263,
   "metadata": {},
   "outputs": [
    {
     "name": "stdout",
     "output_type": "stream",
     "text": [
      "4555\n",
      "31\n"
     ]
    }
   ],
   "source": [
    "loss = 0\n",
    "\n",
    "for i in range(X.shape[0]):\n",
    "\n",
    "    y_pred = 1\n",
    "\n",
    "    for j in range(X.shape[1]):\n",
    "\n",
    "        y_pred += w[j] * X[i, j]\n",
    "\n",
    "    loss += (y[i] - y_pred) ** 2   \n",
    "\n",
    "print(loss)\n",
    "print(y_pred)"
   ]
  },
  {
   "cell_type": "code",
   "execution_count": 242,
   "metadata": {},
   "outputs": [
    {
     "data": {
      "text/plain": [
       "array([ 31.,  31.,  31.,  31.,  31.,  31.])"
      ]
     },
     "execution_count": 242,
     "metadata": {},
     "output_type": "execute_result"
    }
   ],
   "source": [
    "score = np.ones(X.shape[0]) * 1\n",
    "for i in range(X.shape[0]):\n",
    "\n",
    "    for j in range(X.shape[1]):\n",
    "\n",
    "        score[i] += w[j] * X[i,j]\n",
    "\n",
    "score"
   ]
  },
  {
   "cell_type": "code",
   "execution_count": 244,
   "metadata": {
    "collapsed": true
   },
   "outputs": [],
   "source": [
    "rowtotal = np.sum(X, axis = 1)"
   ]
  },
  {
   "cell_type": "code",
   "execution_count": 110,
   "metadata": {},
   "outputs": [
    {
     "name": "stdout",
     "output_type": "stream",
     "text": [
      "[10 10 10 10 10 10]\n",
      "[1 2 3 4 5 6]\n"
     ]
    }
   ],
   "source": [
    "X = np.array([[1,2,3,4],[1,2,3,4],[1,2,3,4],[1,2,3,4],[1,2,3,4],[1,2,3,4]])\n",
    "w = np.array([1,2,3,4])\n",
    "y = np.array([1,2,3,4,5,6])\n",
    "for i in range(y.shape[0]):\n",
    "\n",
    "    if y[i] < 0:\n",
    "\n",
    "        y[i] = 0\n",
    "\n",
    "y\n",
    "rowtotal = np.sum(X, axis = 1)\n",
    "print(rowtotal)\n",
    "print(y)"
   ]
  },
  {
   "cell_type": "code",
   "execution_count": 237,
   "metadata": {},
   "outputs": [
    {
     "name": "stdout",
     "output_type": "stream",
     "text": [
      "[1 2 3 4 5 6]\n"
     ]
    }
   ],
   "source": [
    "X = np.array([[1,2,3,4],[1,2,3,4],[1,2,3,4],[1,2,3,4],[1,2,3,4],[1,2,3,4]])\n",
    "w = np.array([1,2,3,4])\n",
    "y = np.array([1,2,3,4,5,6])\n",
    "y[y<0]=0\n",
    "print(y)\n"
   ]
  },
  {
   "cell_type": "code",
   "execution_count": null,
   "metadata": {
    "collapsed": true
   },
   "outputs": [],
   "source": []
  },
  {
   "cell_type": "code",
   "execution_count": null,
   "metadata": {},
   "outputs": [],
   "source": []
  },
  {
   "cell_type": "code",
   "execution_count": null,
   "metadata": {},
   "outputs": [],
   "source": [
    "\n"
   ]
  },
  {
   "cell_type": "code",
   "execution_count": 47,
   "metadata": {},
   "outputs": [
    {
     "data": {
      "text/plain": [
       "4.0"
      ]
     },
     "execution_count": 47,
     "metadata": {},
     "output_type": "execute_result"
    }
   ],
   "source": [
    "w = np.array([2,2,2,2])\n",
    "L2norm = 0\n",
    "L2norm=np.sum(np.square(w))\n",
    "L2norm=np.sqrt(L2norm)\n",
    "L2norm"
   ]
  },
  {
   "cell_type": "code",
   "execution_count": 24,
   "metadata": {},
   "outputs": [
    {
     "data": {
      "text/plain": [
       "(3, 2)"
      ]
     },
     "execution_count": 24,
     "metadata": {},
     "output_type": "execute_result"
    }
   ],
   "source": [
    "m=np.array([[1,2],[3,4],[5,8]]) #3 arrays and 3 columns. if two square brakets in array then it is two dimensional\n",
    "m\n",
    "m.shape"
   ]
  }
 ],
 "metadata": {
  "kernelspec": {
   "display_name": "Python 3",
   "language": "python",
   "name": "python3"
  },
  "language_info": {
   "codemirror_mode": {
    "name": "ipython",
    "version": 3
   },
   "file_extension": ".py",
   "mimetype": "text/x-python",
   "name": "python",
   "nbconvert_exporter": "python",
   "pygments_lexer": "ipython3",
   "version": "3.6.1"
  }
 },
 "nbformat": 4,
 "nbformat_minor": 2
}
